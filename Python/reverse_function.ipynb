{
  "nbformat": 4,
  "nbformat_minor": 0,
  "metadata": {
    "colab": {
      "name": "reverse function.ipynb",
      "provenance": [],
      "collapsed_sections": []
    },
    "kernelspec": {
      "name": "python3",
      "display_name": "Python 3"
    },
    "language_info": {
      "name": "python"
    }
  },
  "cells": [
    {
      "cell_type": "code",
      "metadata": {
        "id": "e-sz6O8XbeTt"
      },
      "source": [
        "def reverse_list(x):\n",
        "  x.reverse()\n",
        "  for i in x:\n",
        "      \n",
        "     if type(i) == list:\n",
        "    \n",
        "        i.reverse()\n",
        "     \n",
        "  return x\n"
      ],
      "execution_count": 149,
      "outputs": []
    },
    {
      "cell_type": "code",
      "metadata": {
        "id": "U-FGgtafhtrU"
      },
      "source": [
        "x = [[1, 2], [3, 4], [5, 6, 7]]"
      ],
      "execution_count": 150,
      "outputs": []
    },
    {
      "cell_type": "code",
      "metadata": {
        "colab": {
          "base_uri": "https://localhost:8080/"
        },
        "id": "Gci76oWfiT3P",
        "outputId": "622fc5bb-a1b0-41ed-d300-615123e3c15c"
      },
      "source": [
        "print(reverse_list(x))"
      ],
      "execution_count": 151,
      "outputs": [
        {
          "output_type": "stream",
          "name": "stdout",
          "text": [
            "[[7, 6, 5], [4, 3], [2, 1]]\n"
          ]
        }
      ]
    },
    {
      "cell_type": "code",
      "metadata": {
        "id": "P-HHVW8ci0dv"
      },
      "source": [
        ""
      ],
      "execution_count": null,
      "outputs": []
    }
  ]
}
