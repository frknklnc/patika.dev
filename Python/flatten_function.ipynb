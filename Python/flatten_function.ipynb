{
  "nbformat": 4,
  "nbformat_minor": 0,
  "metadata": {
    "colab": {
      "name": "flatten function.ipynb",
      "provenance": [],
      "collapsed_sections": []
    },
    "kernelspec": {
      "name": "python3",
      "display_name": "Python 3"
    },
    "language_info": {
      "name": "python"
    }
  },
  "cells": [
    {
      "cell_type": "code",
      "metadata": {
        "id": "w82Hb6lWX2PH"
      },
      "source": [
        "liste=[]\n",
        "\n",
        "def flat(x):\n",
        "\n",
        "  for eleman in x:\n",
        "\n",
        "    if type(eleman) == list:\n",
        "      flat(eleman)\n",
        "    else:\n",
        "      liste.append(eleman)\n",
        "  return liste\n",
        "\n",
        "\n"
      ],
      "execution_count": 158,
      "outputs": []
    },
    {
      "cell_type": "code",
      "metadata": {
        "id": "yLuIi0hzYYgr"
      },
      "source": [
        "x = [[1,'a',['cat'],2],[[[3]],'dog'],4,5]"
      ],
      "execution_count": 159,
      "outputs": []
    },
    {
      "cell_type": "code",
      "metadata": {
        "colab": {
          "base_uri": "https://localhost:8080/"
        },
        "id": "Mv0S2CtCY8-W",
        "outputId": "b299b0ef-16f4-4d4b-88b9-067d6b701858"
      },
      "source": [
        "flat(x)"
      ],
      "execution_count": 160,
      "outputs": [
        {
          "output_type": "execute_result",
          "data": {
            "text/plain": [
              "[1, 'a', 'cat', 2, 3, 'dog', 4, 5]"
            ]
          },
          "metadata": {},
          "execution_count": 160
        }
      ]
    },
    {
      "cell_type": "code",
      "metadata": {
        "id": "t6_-Hqd3pw8b"
      },
      "source": [
        ""
      ],
      "execution_count": null,
      "outputs": []
    }
  ]
}
